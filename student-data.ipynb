{
 "cells": [
  {
   "cell_type": "code",
   "execution_count": 1,
   "id": "0e66161a-12e6-44a7-a3f2-4782d033115d",
   "metadata": {},
   "outputs": [],
   "source": [
    "import csv"
   ]
  },
  {
   "cell_type": "code",
   "execution_count": 2,
   "id": "d6bddeed-3dfd-412c-b0f3-a3f3f7595118",
   "metadata": {},
   "outputs": [
    {
     "data": {
      "text/plain": [
       "['Dialect',\n",
       " 'DictReader',\n",
       " 'DictWriter',\n",
       " 'Error',\n",
       " 'QUOTE_ALL',\n",
       " 'QUOTE_MINIMAL',\n",
       " 'QUOTE_NONE',\n",
       " 'QUOTE_NONNUMERIC',\n",
       " 'QUOTE_NOTNULL',\n",
       " 'QUOTE_STRINGS',\n",
       " 'Sniffer',\n",
       " 'StringIO',\n",
       " '_Dialect',\n",
       " '__all__',\n",
       " '__builtins__',\n",
       " '__cached__',\n",
       " '__doc__',\n",
       " '__file__',\n",
       " '__loader__',\n",
       " '__name__',\n",
       " '__package__',\n",
       " '__spec__',\n",
       " '__version__',\n",
       " 'excel',\n",
       " 'excel_tab',\n",
       " 'field_size_limit',\n",
       " 'get_dialect',\n",
       " 'list_dialects',\n",
       " 're',\n",
       " 'reader',\n",
       " 'register_dialect',\n",
       " 'types',\n",
       " 'unix_dialect',\n",
       " 'unregister_dialect',\n",
       " 'writer']"
      ]
     },
     "execution_count": 2,
     "metadata": {},
     "output_type": "execute_result"
    }
   ],
   "source": [
    "dir(csv)"
   ]
  },
  {
   "cell_type": "code",
   "execution_count": 3,
   "id": "b790bf4e-e13b-4493-8a62-f5c414e752ad",
   "metadata": {},
   "outputs": [],
   "source": [
    "openFile = open('student data.csv', mode=\"r\")"
   ]
  },
  {
   "cell_type": "code",
   "execution_count": 4,
   "id": "85e98bb8-f047-4bd5-99a9-85b346a0842d",
   "metadata": {},
   "outputs": [
    {
     "data": {
      "text/plain": [
       "<_io.TextIOWrapper name='student data.csv' mode='r' encoding='cp1252'>"
      ]
     },
     "execution_count": 4,
     "metadata": {},
     "output_type": "execute_result"
    }
   ],
   "source": [
    "openFile"
   ]
  },
  {
   "cell_type": "code",
   "execution_count": 5,
   "id": "4cd69c95-f9a7-4ff1-85f3-b5e058a227d7",
   "metadata": {},
   "outputs": [
    {
     "data": {
      "text/plain": [
       "<_csv.reader at 0x1fe2fbf5420>"
      ]
     },
     "execution_count": 5,
     "metadata": {},
     "output_type": "execute_result"
    }
   ],
   "source": [
    "reader =csv.reader(openFile)\n",
    "reader"
   ]
  },
  {
   "cell_type": "code",
   "execution_count": 6,
   "id": "19788b7f-8721-493e-9697-e903cffd4316",
   "metadata": {},
   "outputs": [
    {
     "data": {
      "text/plain": [
       "[['roll no', 'Name', 'Chemistry', 'Physics', 'Math'],\n",
       " ['101', 'Aliza', '50', '23', '87'],\n",
       " ['102', 'Fareed', '45', '24', '88'],\n",
       " ['103', 'Basit', '46', '25', '89'],\n",
       " ['104', 'Abdullah', '47', '26', '90'],\n",
       " ['105', 'Ali', '48', '27', '67'],\n",
       " ['106', 'Mubashir', '49', '28', '68'],\n",
       " ['107', 'Waleed', '50', '29', '69'],\n",
       " ['108', 'Mansoor', '51', '30', '70'],\n",
       " ['109', 'Zain', '52', '31', '71'],\n",
       " ['110', 'Mohsin', '53', '67', '72'],\n",
       " ['111', 'Shahmeer', '54', '68', '73'],\n",
       " ['112', 'Rao', '55', '69', '74'],\n",
       " ['113', 'Aurangzeb', '56', '70', '75'],\n",
       " ['114', 'Zeeshan', '57', '71', '76'],\n",
       " ['115', 'Hamna', '58', '72', '77'],\n",
       " ['116', 'Hamza', '59', '73', '78'],\n",
       " ['117', 'Khalid', '60', '74', '79'],\n",
       " ['118', 'Behroz', '61', '75', '80'],\n",
       " ['119', 'Justin', '62', '76', '81'],\n",
       " ['120', 'Danish', '63', '77', '82'],\n",
       " ['121', 'Kainat', '64', '78', '83'],\n",
       " ['122', 'Sameer', '65', '79', '84'],\n",
       " ['123', 'Raza', '66', '80', '85'],\n",
       " ['124', 'Kumar', '67', '81', '86'],\n",
       " ['125', 'Komal', '68', '82', '87'],\n",
       " ['126', 'Erum', '69', '83', '88'],\n",
       " ['127', 'Faiza', '70', '84', '89'],\n",
       " ['128', 'Saeed', '71', '85', '90'],\n",
       " ['129', 'Waqar', '72', '86', '91'],\n",
       " ['130', 'Wali', '73', '87', '92'],\n",
       " ['131', 'Wajid', '74', '88', '93'],\n",
       " ['132', 'Waseeb', '75', '89', '94'],\n",
       " ['133', 'Shiza', '76', '90', '95'],\n",
       " ['134', 'Shabina', '77', '91', '96'],\n",
       " ['135', 'Shazain', '78', '55', '97'],\n",
       " ['136', 'Lubna', '79', '61', '98'],\n",
       " ['137', 'Laiba', '80', '88', '78'],\n",
       " ['138', 'Khursheed', '81', '56', '45'],\n",
       " ['139', 'Ali', '82', '89', '46'],\n",
       " ['140', 'Aiza', '83', '45', '89'],\n",
       " ['141', 'Aiman', '84', '92', '78'],\n",
       " ['142', 'Yasmeen', '85', '36', '56'],\n",
       " ['143', 'Tasbeel', '86', '78', '78'],\n",
       " ['144', 'Laraib', '87', '56', '54'],\n",
       " ['145', 'Saleem', '88', '78', '78'],\n",
       " ['146', 'Bismil', '89', '89', '46'],\n",
       " ['147', 'Batool', '90', '56', '79'],\n",
       " ['148', 'Iqra', '91', '33', '46'],\n",
       " ['149', 'Zarnish', '92', '78', '45'],\n",
       " ['150', 'Zara', '83', '45', '56']]"
      ]
     },
     "execution_count": 6,
     "metadata": {},
     "output_type": "execute_result"
    }
   ],
   "source": [
    "data=list(reader)\n",
    "data"
   ]
  },
  {
   "cell_type": "code",
   "execution_count": 7,
   "id": "84022046-1aa3-4330-8b0d-e9c4d5f070f8",
   "metadata": {},
   "outputs": [
    {
     "name": "stdout",
     "output_type": "stream",
     "text": [
      "['roll no', 'Name', 'Chemistry', 'Physics', 'Math']\n",
      "['101', 'Aliza', '50', '23', '87']\n",
      "['102', 'Fareed', '45', '24', '88']\n",
      "['103', 'Basit', '46', '25', '89']\n",
      "['104', 'Abdullah', '47', '26', '90']\n",
      "['105', 'Ali', '48', '27', '67']\n",
      "['106', 'Mubashir', '49', '28', '68']\n",
      "['107', 'Waleed', '50', '29', '69']\n",
      "['108', 'Mansoor', '51', '30', '70']\n",
      "['109', 'Zain', '52', '31', '71']\n",
      "['110', 'Mohsin', '53', '67', '72']\n",
      "['111', 'Shahmeer', '54', '68', '73']\n",
      "['112', 'Rao', '55', '69', '74']\n",
      "['113', 'Aurangzeb', '56', '70', '75']\n",
      "['114', 'Zeeshan', '57', '71', '76']\n",
      "['115', 'Hamna', '58', '72', '77']\n",
      "['116', 'Hamza', '59', '73', '78']\n",
      "['117', 'Khalid', '60', '74', '79']\n",
      "['118', 'Behroz', '61', '75', '80']\n",
      "['119', 'Justin', '62', '76', '81']\n",
      "['120', 'Danish', '63', '77', '82']\n",
      "['121', 'Kainat', '64', '78', '83']\n",
      "['122', 'Sameer', '65', '79', '84']\n",
      "['123', 'Raza', '66', '80', '85']\n",
      "['124', 'Kumar', '67', '81', '86']\n",
      "['125', 'Komal', '68', '82', '87']\n",
      "['126', 'Erum', '69', '83', '88']\n",
      "['127', 'Faiza', '70', '84', '89']\n",
      "['128', 'Saeed', '71', '85', '90']\n",
      "['129', 'Waqar', '72', '86', '91']\n",
      "['130', 'Wali', '73', '87', '92']\n",
      "['131', 'Wajid', '74', '88', '93']\n",
      "['132', 'Waseeb', '75', '89', '94']\n",
      "['133', 'Shiza', '76', '90', '95']\n",
      "['134', 'Shabina', '77', '91', '96']\n",
      "['135', 'Shazain', '78', '55', '97']\n",
      "['136', 'Lubna', '79', '61', '98']\n",
      "['137', 'Laiba', '80', '88', '78']\n",
      "['138', 'Khursheed', '81', '56', '45']\n",
      "['139', 'Ali', '82', '89', '46']\n",
      "['140', 'Aiza', '83', '45', '89']\n",
      "['141', 'Aiman', '84', '92', '78']\n",
      "['142', 'Yasmeen', '85', '36', '56']\n",
      "['143', 'Tasbeel', '86', '78', '78']\n",
      "['144', 'Laraib', '87', '56', '54']\n",
      "['145', 'Saleem', '88', '78', '78']\n",
      "['146', 'Bismil', '89', '89', '46']\n",
      "['147', 'Batool', '90', '56', '79']\n",
      "['148', 'Iqra', '91', '33', '46']\n",
      "['149', 'Zarnish', '92', '78', '45']\n",
      "['150', 'Zara', '83', '45', '56']\n"
     ]
    }
   ],
   "source": [
    "for datas in data:\n",
    "    print(datas)"
   ]
  },
  {
   "cell_type": "code",
   "execution_count": 8,
   "id": "708c24bd-8414-40f5-aaf3-965e204c407e",
   "metadata": {},
   "outputs": [
    {
     "name": "stdout",
     "output_type": "stream",
     "text": [
      "['101', 'Aliza', '50', '23', '87']\n",
      "['102', 'Fareed', '45', '24', '88']\n",
      "['103', 'Basit', '46', '25', '89']\n",
      "['104', 'Abdullah', '47', '26', '90']\n",
      "['105', 'Ali', '48', '27', '67']\n",
      "['106', 'Mubashir', '49', '28', '68']\n",
      "['107', 'Waleed', '50', '29', '69']\n",
      "['108', 'Mansoor', '51', '30', '70']\n",
      "['109', 'Zain', '52', '31', '71']\n",
      "['110', 'Mohsin', '53', '67', '72']\n",
      "['111', 'Shahmeer', '54', '68', '73']\n",
      "['112', 'Rao', '55', '69', '74']\n",
      "['113', 'Aurangzeb', '56', '70', '75']\n",
      "['114', 'Zeeshan', '57', '71', '76']\n",
      "['115', 'Hamna', '58', '72', '77']\n",
      "['116', 'Hamza', '59', '73', '78']\n",
      "['117', 'Khalid', '60', '74', '79']\n",
      "['118', 'Behroz', '61', '75', '80']\n",
      "['119', 'Justin', '62', '76', '81']\n",
      "['120', 'Danish', '63', '77', '82']\n",
      "['121', 'Kainat', '64', '78', '83']\n",
      "['122', 'Sameer', '65', '79', '84']\n",
      "['123', 'Raza', '66', '80', '85']\n",
      "['124', 'Kumar', '67', '81', '86']\n",
      "['125', 'Komal', '68', '82', '87']\n",
      "['126', 'Erum', '69', '83', '88']\n",
      "['127', 'Faiza', '70', '84', '89']\n",
      "['128', 'Saeed', '71', '85', '90']\n",
      "['129', 'Waqar', '72', '86', '91']\n",
      "['130', 'Wali', '73', '87', '92']\n",
      "['131', 'Wajid', '74', '88', '93']\n",
      "['132', 'Waseeb', '75', '89', '94']\n",
      "['133', 'Shiza', '76', '90', '95']\n",
      "['134', 'Shabina', '77', '91', '96']\n",
      "['135', 'Shazain', '78', '55', '97']\n",
      "['136', 'Lubna', '79', '61', '98']\n",
      "['137', 'Laiba', '80', '88', '78']\n",
      "['138', 'Khursheed', '81', '56', '45']\n",
      "['139', 'Ali', '82', '89', '46']\n",
      "['140', 'Aiza', '83', '45', '89']\n",
      "['141', 'Aiman', '84', '92', '78']\n",
      "['142', 'Yasmeen', '85', '36', '56']\n",
      "['143', 'Tasbeel', '86', '78', '78']\n",
      "['144', 'Laraib', '87', '56', '54']\n",
      "['145', 'Saleem', '88', '78', '78']\n",
      "['146', 'Bismil', '89', '89', '46']\n",
      "['147', 'Batool', '90', '56', '79']\n",
      "['148', 'Iqra', '91', '33', '46']\n",
      "['149', 'Zarnish', '92', '78', '45']\n",
      "['150', 'Zara', '83', '45', '56']\n"
     ]
    }
   ],
   "source": [
    "for datas in data[1:]:\n",
    "    print(datas)"
   ]
  },
  {
   "cell_type": "code",
   "execution_count": 9,
   "id": "b246138d-c301-4f56-8573-ec4ac02cd3d7",
   "metadata": {},
   "outputs": [
    {
     "name": "stdout",
     "output_type": "stream",
     "text": [
      "['101', 'Aliza', '50', '23', '87', 53.33, 'C']\n",
      "['102', 'Fareed', '45', '24', '88', 52.33, 'C']\n",
      "['103', 'Basit', '46', '25', '89', 53.33, 'C']\n",
      "['104', 'Abdullah', '47', '26', '90', 54.33, 'C']\n",
      "['105', 'Ali', '48', '27', '67', 47.33, 'C']\n",
      "['106', 'Mubashir', '49', '28', '68', 48.33, 'C']\n",
      "['107', 'Waleed', '50', '29', '69', 49.33, 'C']\n",
      "['108', 'Mansoor', '51', '30', '70', 50.33, 'C']\n",
      "['109', 'Zain', '52', '31', '71', 51.33, 'C']\n",
      "['110', 'Mohsin', '53', '67', '72', 64.0, 'B']\n",
      "['111', 'Shahmeer', '54', '68', '73', 65.0, 'B']\n",
      "['112', 'Rao', '55', '69', '74', 66.0, 'B']\n",
      "['113', 'Aurangzeb', '56', '70', '75', 67.0, 'B']\n",
      "['114', 'Zeeshan', '57', '71', '76', 68.0, 'B']\n",
      "['115', 'Hamna', '58', '72', '77', 69.0, 'B']\n",
      "['116', 'Hamza', '59', '73', '78', 70.0, 'A']\n",
      "['117', 'Khalid', '60', '74', '79', 71.0, 'A']\n",
      "['118', 'Behroz', '61', '75', '80', 72.0, 'A']\n",
      "['119', 'Justin', '62', '76', '81', 73.0, 'A']\n",
      "['120', 'Danish', '63', '77', '82', 74.0, 'A']\n",
      "['121', 'Kainat', '64', '78', '83', 75.0, 'A']\n",
      "['122', 'Sameer', '65', '79', '84', 76.0, 'A']\n",
      "['123', 'Raza', '66', '80', '85', 77.0, 'A']\n",
      "['124', 'Kumar', '67', '81', '86', 78.0, 'A']\n",
      "['125', 'Komal', '68', '82', '87', 79.0, 'A']\n",
      "['126', 'Erum', '69', '83', '88', 80.0, 'A+']\n",
      "['127', 'Faiza', '70', '84', '89', 81.0, 'A+']\n",
      "['128', 'Saeed', '71', '85', '90', 82.0, 'A+']\n",
      "['129', 'Waqar', '72', '86', '91', 83.0, 'A+']\n",
      "['130', 'Wali', '73', '87', '92', 84.0, 'A+']\n",
      "['131', 'Wajid', '74', '88', '93', 85.0, 'A+']\n",
      "['132', 'Waseeb', '75', '89', '94', 86.0, 'A+']\n",
      "['133', 'Shiza', '76', '90', '95', 87.0, 'A+']\n",
      "['134', 'Shabina', '77', '91', '96', 88.0, 'A+']\n",
      "['135', 'Shazain', '78', '55', '97', 76.67, 'A']\n",
      "['136', 'Lubna', '79', '61', '98', 79.33, 'A']\n",
      "['137', 'Laiba', '80', '88', '78', 82.0, 'A+']\n",
      "['138', 'Khursheed', '81', '56', '45', 60.67, 'B']\n",
      "['139', 'Ali', '82', '89', '46', 72.33, 'A']\n",
      "['140', 'Aiza', '83', '45', '89', 72.33, 'A']\n",
      "['141', 'Aiman', '84', '92', '78', 84.67, 'A+']\n",
      "['142', 'Yasmeen', '85', '36', '56', 59.0, 'C']\n",
      "['143', 'Tasbeel', '86', '78', '78', 80.67, 'A+']\n",
      "['144', 'Laraib', '87', '56', '54', 65.67, 'B']\n",
      "['145', 'Saleem', '88', '78', '78', 81.33, 'A+']\n",
      "['146', 'Bismil', '89', '89', '46', 74.67, 'A']\n",
      "['147', 'Batool', '90', '56', '79', 75.0, 'A']\n",
      "['148', 'Iqra', '91', '33', '46', 56.67, 'C']\n",
      "['149', 'Zarnish', '92', '78', '45', 71.67, 'A']\n",
      "['150', 'Zara', '83', '45', '56', 61.33, 'B']\n"
     ]
    }
   ],
   "source": [
    "\n",
    "for datas in data[1:]:\n",
    "    chem = float(datas[2])\n",
    "    phy =  float(datas[3])\n",
    "    math = float(datas[4])\n",
    "    per =  round((chem+phy+math)/300*100,2)\n",
    "   \n",
    "        \n",
    "    datas.append(per)\n",
    "    if per >= 80:\n",
    "       datas.append('A+')\n",
    "    elif per >= 70:\n",
    "       datas.append('A')\n",
    "    elif per >= 60:\n",
    "       datas.append('B')\n",
    "    else:\n",
    "       datas.append('C')\n",
    "    \n",
    "    print(datas)"
   ]
  },
  {
   "cell_type": "code",
   "execution_count": 10,
   "id": "59cf0228-2582-4155-9770-80b422993206",
   "metadata": {},
   "outputs": [],
   "source": [
    "data[0].append('Percentage')\n",
    "data[0].append('Grade')"
   ]
  },
  {
   "cell_type": "code",
   "execution_count": 11,
   "id": "d5b45b80-46a2-4ede-ae7f-d67445677cb6",
   "metadata": {},
   "outputs": [
    {
     "data": {
      "text/plain": [
       "[['roll no', 'Name', 'Chemistry', 'Physics', 'Math', 'Percentage', 'Grade'],\n",
       " ['101', 'Aliza', '50', '23', '87', 53.33, 'C'],\n",
       " ['102', 'Fareed', '45', '24', '88', 52.33, 'C'],\n",
       " ['103', 'Basit', '46', '25', '89', 53.33, 'C'],\n",
       " ['104', 'Abdullah', '47', '26', '90', 54.33, 'C'],\n",
       " ['105', 'Ali', '48', '27', '67', 47.33, 'C'],\n",
       " ['106', 'Mubashir', '49', '28', '68', 48.33, 'C'],\n",
       " ['107', 'Waleed', '50', '29', '69', 49.33, 'C'],\n",
       " ['108', 'Mansoor', '51', '30', '70', 50.33, 'C'],\n",
       " ['109', 'Zain', '52', '31', '71', 51.33, 'C'],\n",
       " ['110', 'Mohsin', '53', '67', '72', 64.0, 'B'],\n",
       " ['111', 'Shahmeer', '54', '68', '73', 65.0, 'B'],\n",
       " ['112', 'Rao', '55', '69', '74', 66.0, 'B'],\n",
       " ['113', 'Aurangzeb', '56', '70', '75', 67.0, 'B'],\n",
       " ['114', 'Zeeshan', '57', '71', '76', 68.0, 'B'],\n",
       " ['115', 'Hamna', '58', '72', '77', 69.0, 'B'],\n",
       " ['116', 'Hamza', '59', '73', '78', 70.0, 'A'],\n",
       " ['117', 'Khalid', '60', '74', '79', 71.0, 'A'],\n",
       " ['118', 'Behroz', '61', '75', '80', 72.0, 'A'],\n",
       " ['119', 'Justin', '62', '76', '81', 73.0, 'A'],\n",
       " ['120', 'Danish', '63', '77', '82', 74.0, 'A'],\n",
       " ['121', 'Kainat', '64', '78', '83', 75.0, 'A'],\n",
       " ['122', 'Sameer', '65', '79', '84', 76.0, 'A'],\n",
       " ['123', 'Raza', '66', '80', '85', 77.0, 'A'],\n",
       " ['124', 'Kumar', '67', '81', '86', 78.0, 'A'],\n",
       " ['125', 'Komal', '68', '82', '87', 79.0, 'A'],\n",
       " ['126', 'Erum', '69', '83', '88', 80.0, 'A+'],\n",
       " ['127', 'Faiza', '70', '84', '89', 81.0, 'A+'],\n",
       " ['128', 'Saeed', '71', '85', '90', 82.0, 'A+'],\n",
       " ['129', 'Waqar', '72', '86', '91', 83.0, 'A+'],\n",
       " ['130', 'Wali', '73', '87', '92', 84.0, 'A+'],\n",
       " ['131', 'Wajid', '74', '88', '93', 85.0, 'A+'],\n",
       " ['132', 'Waseeb', '75', '89', '94', 86.0, 'A+'],\n",
       " ['133', 'Shiza', '76', '90', '95', 87.0, 'A+'],\n",
       " ['134', 'Shabina', '77', '91', '96', 88.0, 'A+'],\n",
       " ['135', 'Shazain', '78', '55', '97', 76.67, 'A'],\n",
       " ['136', 'Lubna', '79', '61', '98', 79.33, 'A'],\n",
       " ['137', 'Laiba', '80', '88', '78', 82.0, 'A+'],\n",
       " ['138', 'Khursheed', '81', '56', '45', 60.67, 'B'],\n",
       " ['139', 'Ali', '82', '89', '46', 72.33, 'A'],\n",
       " ['140', 'Aiza', '83', '45', '89', 72.33, 'A'],\n",
       " ['141', 'Aiman', '84', '92', '78', 84.67, 'A+'],\n",
       " ['142', 'Yasmeen', '85', '36', '56', 59.0, 'C'],\n",
       " ['143', 'Tasbeel', '86', '78', '78', 80.67, 'A+'],\n",
       " ['144', 'Laraib', '87', '56', '54', 65.67, 'B'],\n",
       " ['145', 'Saleem', '88', '78', '78', 81.33, 'A+'],\n",
       " ['146', 'Bismil', '89', '89', '46', 74.67, 'A'],\n",
       " ['147', 'Batool', '90', '56', '79', 75.0, 'A'],\n",
       " ['148', 'Iqra', '91', '33', '46', 56.67, 'C'],\n",
       " ['149', 'Zarnish', '92', '78', '45', 71.67, 'A'],\n",
       " ['150', 'Zara', '83', '45', '56', 61.33, 'B']]"
      ]
     },
     "execution_count": 11,
     "metadata": {},
     "output_type": "execute_result"
    }
   ],
   "source": [
    "data"
   ]
  },
  {
   "cell_type": "code",
   "execution_count": 26,
   "id": "830284db-4f53-45ff-9c8f-41c6fae00559",
   "metadata": {},
   "outputs": [
    {
     "data": {
      "text/plain": [
       "<_io.TextIOWrapper name='studentUpdatedData.csv' mode='w' encoding='cp1252'>"
      ]
     },
     "execution_count": 26,
     "metadata": {},
     "output_type": "execute_result"
    }
   ],
   "source": [
    "updatedFile=open(\"studentUpdatedData.csv\",mode =\"w\",newline=\"\")\n",
    "updatedFile"
   ]
  },
  {
   "cell_type": "code",
   "execution_count": 27,
   "id": "14e8899f-956e-4d6b-9edd-471dfc5f2f20",
   "metadata": {},
   "outputs": [
    {
     "data": {
      "text/plain": [
       "<_csv.writer at 0x1fe30896da0>"
      ]
     },
     "execution_count": 27,
     "metadata": {},
     "output_type": "execute_result"
    }
   ],
   "source": [
    "writer = csv.writer(updatedFile)\n",
    "writer"
   ]
  },
  {
   "cell_type": "code",
   "execution_count": 29,
   "id": "92d7dd73-0363-4295-9b2f-ec0c4dea474e",
   "metadata": {},
   "outputs": [],
   "source": [
    "writer.writerows(data)"
   ]
  },
  {
   "cell_type": "code",
   "execution_count": 30,
   "id": "d1f8b4b9-6e68-446c-b963-96be049744b5",
   "metadata": {},
   "outputs": [],
   "source": [
    "updatedFile.close()"
   ]
  },
  {
   "cell_type": "code",
   "execution_count": null,
   "id": "4b662ed3-f7af-4634-abc9-b0a3dcbcac09",
   "metadata": {},
   "outputs": [],
   "source": []
  }
 ],
 "metadata": {
  "kernelspec": {
   "display_name": "Python 3 (ipykernel)",
   "language": "python",
   "name": "python3"
  },
  "language_info": {
   "codemirror_mode": {
    "name": "ipython",
    "version": 3
   },
   "file_extension": ".py",
   "mimetype": "text/x-python",
   "name": "python",
   "nbconvert_exporter": "python",
   "pygments_lexer": "ipython3",
   "version": "3.13.5"
  }
 },
 "nbformat": 4,
 "nbformat_minor": 5
}
